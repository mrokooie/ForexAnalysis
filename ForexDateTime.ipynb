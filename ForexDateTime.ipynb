{
 "cells": [
  {
   "cell_type": "code",
   "execution_count": 175,
   "id": "02998f55",
   "metadata": {},
   "outputs": [],
   "source": [
    "import pandas as pd\n",
    "import scipy.stats\n",
    "import pylab\n",
    "import matplotlib.pyplot as plt\n",
    "import numpy as np\n",
    "#!pip install statsmodels\n",
    "import statsmodels.tsa.stattools as sts\n",
    "from statsmodels.tsa.seasonal import seasonal_decompose\n",
    "import statsmodels.graphics.tsaplots as sgt\n",
    "from statsmodels.tsa.arima.model import ARIMA"
   ]
  },
  {
   "cell_type": "code",
   "execution_count": 97,
   "id": "31cfc0d4",
   "metadata": {},
   "outputs": [
    {
     "data": {
      "text/html": [
       "<div>\n",
       "<style scoped>\n",
       "    .dataframe tbody tr th:only-of-type {\n",
       "        vertical-align: middle;\n",
       "    }\n",
       "\n",
       "    .dataframe tbody tr th {\n",
       "        vertical-align: top;\n",
       "    }\n",
       "\n",
       "    .dataframe thead th {\n",
       "        text-align: right;\n",
       "    }\n",
       "</style>\n",
       "<table border=\"1\" class=\"dataframe\">\n",
       "  <thead>\n",
       "    <tr style=\"text-align: right;\">\n",
       "      <th></th>\n",
       "      <th>Date</th>\n",
       "      <th>Open</th>\n",
       "      <th>High</th>\n",
       "      <th>Low</th>\n",
       "      <th>Close</th>\n",
       "    </tr>\n",
       "  </thead>\n",
       "  <tbody>\n",
       "    <tr>\n",
       "      <th>0</th>\n",
       "      <td>1971-01-04</td>\n",
       "      <td>0.5411</td>\n",
       "      <td>0.5411</td>\n",
       "      <td>0.5411</td>\n",
       "      <td>0.5411</td>\n",
       "    </tr>\n",
       "    <tr>\n",
       "      <th>1</th>\n",
       "      <td>1971-01-05</td>\n",
       "      <td>0.5405</td>\n",
       "      <td>0.5405</td>\n",
       "      <td>0.5405</td>\n",
       "      <td>0.5405</td>\n",
       "    </tr>\n",
       "    <tr>\n",
       "      <th>2</th>\n",
       "      <td>1971-01-06</td>\n",
       "      <td>0.5409</td>\n",
       "      <td>0.5409</td>\n",
       "      <td>0.5409</td>\n",
       "      <td>0.5409</td>\n",
       "    </tr>\n",
       "    <tr>\n",
       "      <th>3</th>\n",
       "      <td>1971-01-07</td>\n",
       "      <td>0.5432</td>\n",
       "      <td>0.5432</td>\n",
       "      <td>0.5432</td>\n",
       "      <td>0.5432</td>\n",
       "    </tr>\n",
       "    <tr>\n",
       "      <th>4</th>\n",
       "      <td>1971-01-08</td>\n",
       "      <td>0.5436</td>\n",
       "      <td>0.5436</td>\n",
       "      <td>0.5436</td>\n",
       "      <td>0.5436</td>\n",
       "    </tr>\n",
       "    <tr>\n",
       "      <th>5</th>\n",
       "      <td>1971-01-11</td>\n",
       "      <td>0.5441</td>\n",
       "      <td>0.5441</td>\n",
       "      <td>0.5441</td>\n",
       "      <td>0.5441</td>\n",
       "    </tr>\n",
       "    <tr>\n",
       "      <th>6</th>\n",
       "      <td>1971-01-12</td>\n",
       "      <td>0.5425</td>\n",
       "      <td>0.5425</td>\n",
       "      <td>0.5425</td>\n",
       "      <td>0.5425</td>\n",
       "    </tr>\n",
       "    <tr>\n",
       "      <th>7</th>\n",
       "      <td>1971-01-13</td>\n",
       "      <td>0.5423</td>\n",
       "      <td>0.5423</td>\n",
       "      <td>0.5423</td>\n",
       "      <td>0.5423</td>\n",
       "    </tr>\n",
       "    <tr>\n",
       "      <th>8</th>\n",
       "      <td>1971-01-14</td>\n",
       "      <td>0.5431</td>\n",
       "      <td>0.5431</td>\n",
       "      <td>0.5431</td>\n",
       "      <td>0.5431</td>\n",
       "    </tr>\n",
       "    <tr>\n",
       "      <th>9</th>\n",
       "      <td>1971-01-15</td>\n",
       "      <td>0.5433</td>\n",
       "      <td>0.5433</td>\n",
       "      <td>0.5433</td>\n",
       "      <td>0.5433</td>\n",
       "    </tr>\n",
       "  </tbody>\n",
       "</table>\n",
       "</div>"
      ],
      "text/plain": [
       "         Date    Open    High     Low   Close\n",
       "0  1971-01-04  0.5411  0.5411  0.5411  0.5411\n",
       "1  1971-01-05  0.5405  0.5405  0.5405  0.5405\n",
       "2  1971-01-06  0.5409  0.5409  0.5409  0.5409\n",
       "3  1971-01-07  0.5432  0.5432  0.5432  0.5432\n",
       "4  1971-01-08  0.5436  0.5436  0.5436  0.5436\n",
       "5  1971-01-11  0.5441  0.5441  0.5441  0.5441\n",
       "6  1971-01-12  0.5425  0.5425  0.5425  0.5425\n",
       "7  1971-01-13  0.5423  0.5423  0.5423  0.5423\n",
       "8  1971-01-14  0.5431  0.5431  0.5431  0.5431\n",
       "9  1971-01-15  0.5433  0.5433  0.5433  0.5433"
      ]
     },
     "execution_count": 97,
     "metadata": {},
     "output_type": "execute_result"
    }
   ],
   "source": [
    "data = pd.read_csv(\"eurcad_d.csv\")\n",
    "data.head(10)"
   ]
  },
  {
   "cell_type": "code",
   "execution_count": 99,
   "id": "76ef4c16",
   "metadata": {},
   "outputs": [
    {
     "data": {
      "text/html": [
       "<div>\n",
       "<style scoped>\n",
       "    .dataframe tbody tr th:only-of-type {\n",
       "        vertical-align: middle;\n",
       "    }\n",
       "\n",
       "    .dataframe tbody tr th {\n",
       "        vertical-align: top;\n",
       "    }\n",
       "\n",
       "    .dataframe thead th {\n",
       "        text-align: right;\n",
       "    }\n",
       "</style>\n",
       "<table border=\"1\" class=\"dataframe\">\n",
       "  <thead>\n",
       "    <tr style=\"text-align: right;\">\n",
       "      <th></th>\n",
       "      <th>Date</th>\n",
       "      <th>Open</th>\n",
       "      <th>High</th>\n",
       "      <th>Low</th>\n",
       "      <th>Close</th>\n",
       "    </tr>\n",
       "  </thead>\n",
       "  <tbody>\n",
       "    <tr>\n",
       "      <th>12992</th>\n",
       "      <td>2021-12-15</td>\n",
       "      <td>1.44798</td>\n",
       "      <td>1.45484</td>\n",
       "      <td>1.44675</td>\n",
       "      <td>1.44965</td>\n",
       "    </tr>\n",
       "    <tr>\n",
       "      <th>12993</th>\n",
       "      <td>2021-12-16</td>\n",
       "      <td>1.44966</td>\n",
       "      <td>1.45207</td>\n",
       "      <td>1.44196</td>\n",
       "      <td>1.44751</td>\n",
       "    </tr>\n",
       "    <tr>\n",
       "      <th>12994</th>\n",
       "      <td>2021-12-17</td>\n",
       "      <td>1.44754</td>\n",
       "      <td>1.45360</td>\n",
       "      <td>1.44475</td>\n",
       "      <td>1.44892</td>\n",
       "    </tr>\n",
       "    <tr>\n",
       "      <th>12995</th>\n",
       "      <td>2021-12-20</td>\n",
       "      <td>1.44812</td>\n",
       "      <td>1.46457</td>\n",
       "      <td>1.44777</td>\n",
       "      <td>1.45968</td>\n",
       "    </tr>\n",
       "    <tr>\n",
       "      <th>12996</th>\n",
       "      <td>2021-12-21</td>\n",
       "      <td>1.45967</td>\n",
       "      <td>1.46290</td>\n",
       "      <td>1.45562</td>\n",
       "      <td>1.45701</td>\n",
       "    </tr>\n",
       "    <tr>\n",
       "      <th>12997</th>\n",
       "      <td>2021-12-22</td>\n",
       "      <td>1.45701</td>\n",
       "      <td>1.46134</td>\n",
       "      <td>1.45360</td>\n",
       "      <td>1.45449</td>\n",
       "    </tr>\n",
       "    <tr>\n",
       "      <th>12998</th>\n",
       "      <td>2021-12-23</td>\n",
       "      <td>1.45449</td>\n",
       "      <td>1.45750</td>\n",
       "      <td>1.44826</td>\n",
       "      <td>1.45112</td>\n",
       "    </tr>\n",
       "    <tr>\n",
       "      <th>12999</th>\n",
       "      <td>2021-12-24</td>\n",
       "      <td>1.45110</td>\n",
       "      <td>1.45510</td>\n",
       "      <td>1.44820</td>\n",
       "      <td>1.44948</td>\n",
       "    </tr>\n",
       "    <tr>\n",
       "      <th>13000</th>\n",
       "      <td>2021-12-27</td>\n",
       "      <td>1.44930</td>\n",
       "      <td>1.45361</td>\n",
       "      <td>1.44635</td>\n",
       "      <td>1.44818</td>\n",
       "    </tr>\n",
       "    <tr>\n",
       "      <th>13001</th>\n",
       "      <td>2021-12-28</td>\n",
       "      <td>1.44812</td>\n",
       "      <td>1.45128</td>\n",
       "      <td>1.44556</td>\n",
       "      <td>1.44919</td>\n",
       "    </tr>\n",
       "  </tbody>\n",
       "</table>\n",
       "</div>"
      ],
      "text/plain": [
       "             Date     Open     High      Low    Close\n",
       "12992  2021-12-15  1.44798  1.45484  1.44675  1.44965\n",
       "12993  2021-12-16  1.44966  1.45207  1.44196  1.44751\n",
       "12994  2021-12-17  1.44754  1.45360  1.44475  1.44892\n",
       "12995  2021-12-20  1.44812  1.46457  1.44777  1.45968\n",
       "12996  2021-12-21  1.45967  1.46290  1.45562  1.45701\n",
       "12997  2021-12-22  1.45701  1.46134  1.45360  1.45449\n",
       "12998  2021-12-23  1.45449  1.45750  1.44826  1.45112\n",
       "12999  2021-12-24  1.45110  1.45510  1.44820  1.44948\n",
       "13000  2021-12-27  1.44930  1.45361  1.44635  1.44818\n",
       "13001  2021-12-28  1.44812  1.45128  1.44556  1.44919"
      ]
     },
     "execution_count": 99,
     "metadata": {},
     "output_type": "execute_result"
    }
   ],
   "source": [
    "data.tail(10)"
   ]
  },
  {
   "cell_type": "code",
   "execution_count": 100,
   "id": "4652cad0",
   "metadata": {},
   "outputs": [
    {
     "name": "stdout",
     "output_type": "stream",
     "text": [
      "             Date     Open     High      Low    Close\n",
      "0      1971-01-04  0.54110  0.54110  0.54110  0.54110\n",
      "1      1971-01-05  0.54050  0.54050  0.54050  0.54050\n",
      "2      1971-01-06  0.54090  0.54090  0.54090  0.54090\n",
      "3      1971-01-07  0.54320  0.54320  0.54320  0.54320\n",
      "4      1971-01-08  0.54360  0.54360  0.54360  0.54360\n",
      "...           ...      ...      ...      ...      ...\n",
      "12997  2021-12-22  1.45701  1.46134  1.45360  1.45449\n",
      "12998  2021-12-23  1.45449  1.45750  1.44826  1.45112\n",
      "12999  2021-12-24  1.45110  1.45510  1.44820  1.44948\n",
      "13000  2021-12-27  1.44930  1.45361  1.44635  1.44818\n",
      "13001  2021-12-28  1.44812  1.45128  1.44556  1.44919\n",
      "\n",
      "[13002 rows x 5 columns]\n"
     ]
    },
    {
     "data": {
      "text/html": [
       "<div>\n",
       "<style scoped>\n",
       "    .dataframe tbody tr th:only-of-type {\n",
       "        vertical-align: middle;\n",
       "    }\n",
       "\n",
       "    .dataframe tbody tr th {\n",
       "        vertical-align: top;\n",
       "    }\n",
       "\n",
       "    .dataframe thead th {\n",
       "        text-align: right;\n",
       "    }\n",
       "</style>\n",
       "<table border=\"1\" class=\"dataframe\">\n",
       "  <thead>\n",
       "    <tr style=\"text-align: right;\">\n",
       "      <th></th>\n",
       "      <th>Open</th>\n",
       "      <th>High</th>\n",
       "      <th>Low</th>\n",
       "      <th>Close</th>\n",
       "    </tr>\n",
       "  </thead>\n",
       "  <tbody>\n",
       "    <tr>\n",
       "      <th>count</th>\n",
       "      <td>13002.000000</td>\n",
       "      <td>13002.000000</td>\n",
       "      <td>13002.000000</td>\n",
       "      <td>13002.000000</td>\n",
       "    </tr>\n",
       "    <tr>\n",
       "      <th>mean</th>\n",
       "      <td>1.311246</td>\n",
       "      <td>1.313962</td>\n",
       "      <td>1.308587</td>\n",
       "      <td>1.311257</td>\n",
       "    </tr>\n",
       "    <tr>\n",
       "      <th>std</th>\n",
       "      <td>0.305617</td>\n",
       "      <td>0.307142</td>\n",
       "      <td>0.304157</td>\n",
       "      <td>0.305614</td>\n",
       "    </tr>\n",
       "    <tr>\n",
       "      <th>min</th>\n",
       "      <td>0.538800</td>\n",
       "      <td>0.538800</td>\n",
       "      <td>0.538800</td>\n",
       "      <td>0.538800</td>\n",
       "    </tr>\n",
       "    <tr>\n",
       "      <th>25%</th>\n",
       "      <td>1.169450</td>\n",
       "      <td>1.169450</td>\n",
       "      <td>1.169450</td>\n",
       "      <td>1.169450</td>\n",
       "    </tr>\n",
       "    <tr>\n",
       "      <th>50%</th>\n",
       "      <td>1.407370</td>\n",
       "      <td>1.411250</td>\n",
       "      <td>1.403500</td>\n",
       "      <td>1.407500</td>\n",
       "    </tr>\n",
       "    <tr>\n",
       "      <th>75%</th>\n",
       "      <td>1.527300</td>\n",
       "      <td>1.531700</td>\n",
       "      <td>1.522500</td>\n",
       "      <td>1.527400</td>\n",
       "    </tr>\n",
       "    <tr>\n",
       "      <th>max</th>\n",
       "      <td>1.895800</td>\n",
       "      <td>1.895800</td>\n",
       "      <td>1.895800</td>\n",
       "      <td>1.895800</td>\n",
       "    </tr>\n",
       "  </tbody>\n",
       "</table>\n",
       "</div>"
      ],
      "text/plain": [
       "               Open          High           Low         Close\n",
       "count  13002.000000  13002.000000  13002.000000  13002.000000\n",
       "mean       1.311246      1.313962      1.308587      1.311257\n",
       "std        0.305617      0.307142      0.304157      0.305614\n",
       "min        0.538800      0.538800      0.538800      0.538800\n",
       "25%        1.169450      1.169450      1.169450      1.169450\n",
       "50%        1.407370      1.411250      1.403500      1.407500\n",
       "75%        1.527300      1.531700      1.522500      1.527400\n",
       "max        1.895800      1.895800      1.895800      1.895800"
      ]
     },
     "execution_count": 100,
     "metadata": {},
     "output_type": "execute_result"
    }
   ],
   "source": [
    "print(data)\n",
    "data.describe()"
   ]
  },
  {
   "cell_type": "code",
   "execution_count": 101,
   "id": "4ade3d12",
   "metadata": {},
   "outputs": [
    {
     "data": {
      "text/plain": [
       "Date     0\n",
       "Open     0\n",
       "High     0\n",
       "Low      0\n",
       "Close    0\n",
       "dtype: int64"
      ]
     },
     "execution_count": 101,
     "metadata": {},
     "output_type": "execute_result"
    }
   ],
   "source": [
    "data.isna().sum()"
   ]
  },
  {
   "cell_type": "code",
   "execution_count": 102,
   "id": "afee1678",
   "metadata": {},
   "outputs": [
    {
     "data": {
      "text/plain": [
       "count          13002\n",
       "unique         13002\n",
       "top       1971-01-04\n",
       "freq               1\n",
       "Name: Date, dtype: object"
      ]
     },
     "execution_count": 102,
     "metadata": {},
     "output_type": "execute_result"
    }
   ],
   "source": [
    "data.Date.describe()"
   ]
  },
  {
   "cell_type": "code",
   "execution_count": 103,
   "id": "48e954e1",
   "metadata": {},
   "outputs": [],
   "source": [
    "data.Date = pd.to_datetime(data.Date,dayfirst = True)\n",
    "data.set_index('Date',inplace = True)"
   ]
  },
  {
   "cell_type": "code",
   "execution_count": 104,
   "id": "da8739dc",
   "metadata": {},
   "outputs": [
    {
     "data": {
      "text/html": [
       "<div>\n",
       "<style scoped>\n",
       "    .dataframe tbody tr th:only-of-type {\n",
       "        vertical-align: middle;\n",
       "    }\n",
       "\n",
       "    .dataframe tbody tr th {\n",
       "        vertical-align: top;\n",
       "    }\n",
       "\n",
       "    .dataframe thead th {\n",
       "        text-align: right;\n",
       "    }\n",
       "</style>\n",
       "<table border=\"1\" class=\"dataframe\">\n",
       "  <thead>\n",
       "    <tr style=\"text-align: right;\">\n",
       "      <th></th>\n",
       "      <th>Open</th>\n",
       "      <th>High</th>\n",
       "      <th>Low</th>\n",
       "      <th>Close</th>\n",
       "    </tr>\n",
       "    <tr>\n",
       "      <th>Date</th>\n",
       "      <th></th>\n",
       "      <th></th>\n",
       "      <th></th>\n",
       "      <th></th>\n",
       "    </tr>\n",
       "  </thead>\n",
       "  <tbody>\n",
       "    <tr>\n",
       "      <th>1971-01-04</th>\n",
       "      <td>0.54110</td>\n",
       "      <td>0.54110</td>\n",
       "      <td>0.54110</td>\n",
       "      <td>0.54110</td>\n",
       "    </tr>\n",
       "    <tr>\n",
       "      <th>1971-01-05</th>\n",
       "      <td>0.54050</td>\n",
       "      <td>0.54050</td>\n",
       "      <td>0.54050</td>\n",
       "      <td>0.54050</td>\n",
       "    </tr>\n",
       "    <tr>\n",
       "      <th>1971-01-06</th>\n",
       "      <td>0.54090</td>\n",
       "      <td>0.54090</td>\n",
       "      <td>0.54090</td>\n",
       "      <td>0.54090</td>\n",
       "    </tr>\n",
       "    <tr>\n",
       "      <th>1971-01-07</th>\n",
       "      <td>0.54320</td>\n",
       "      <td>0.54320</td>\n",
       "      <td>0.54320</td>\n",
       "      <td>0.54320</td>\n",
       "    </tr>\n",
       "    <tr>\n",
       "      <th>1971-01-08</th>\n",
       "      <td>0.54360</td>\n",
       "      <td>0.54360</td>\n",
       "      <td>0.54360</td>\n",
       "      <td>0.54360</td>\n",
       "    </tr>\n",
       "    <tr>\n",
       "      <th>...</th>\n",
       "      <td>...</td>\n",
       "      <td>...</td>\n",
       "      <td>...</td>\n",
       "      <td>...</td>\n",
       "    </tr>\n",
       "    <tr>\n",
       "      <th>2021-12-22</th>\n",
       "      <td>1.45701</td>\n",
       "      <td>1.46134</td>\n",
       "      <td>1.45360</td>\n",
       "      <td>1.45449</td>\n",
       "    </tr>\n",
       "    <tr>\n",
       "      <th>2021-12-23</th>\n",
       "      <td>1.45449</td>\n",
       "      <td>1.45750</td>\n",
       "      <td>1.44826</td>\n",
       "      <td>1.45112</td>\n",
       "    </tr>\n",
       "    <tr>\n",
       "      <th>2021-12-24</th>\n",
       "      <td>1.45110</td>\n",
       "      <td>1.45510</td>\n",
       "      <td>1.44820</td>\n",
       "      <td>1.44948</td>\n",
       "    </tr>\n",
       "    <tr>\n",
       "      <th>2021-12-27</th>\n",
       "      <td>1.44930</td>\n",
       "      <td>1.45361</td>\n",
       "      <td>1.44635</td>\n",
       "      <td>1.44818</td>\n",
       "    </tr>\n",
       "    <tr>\n",
       "      <th>2021-12-28</th>\n",
       "      <td>1.44812</td>\n",
       "      <td>1.45128</td>\n",
       "      <td>1.44556</td>\n",
       "      <td>1.44919</td>\n",
       "    </tr>\n",
       "  </tbody>\n",
       "</table>\n",
       "<p>13002 rows × 4 columns</p>\n",
       "</div>"
      ],
      "text/plain": [
       "               Open     High      Low    Close\n",
       "Date                                          \n",
       "1971-01-04  0.54110  0.54110  0.54110  0.54110\n",
       "1971-01-05  0.54050  0.54050  0.54050  0.54050\n",
       "1971-01-06  0.54090  0.54090  0.54090  0.54090\n",
       "1971-01-07  0.54320  0.54320  0.54320  0.54320\n",
       "1971-01-08  0.54360  0.54360  0.54360  0.54360\n",
       "...             ...      ...      ...      ...\n",
       "2021-12-22  1.45701  1.46134  1.45360  1.45449\n",
       "2021-12-23  1.45449  1.45750  1.44826  1.45112\n",
       "2021-12-24  1.45110  1.45510  1.44820  1.44948\n",
       "2021-12-27  1.44930  1.45361  1.44635  1.44818\n",
       "2021-12-28  1.44812  1.45128  1.44556  1.44919\n",
       "\n",
       "[13002 rows x 4 columns]"
      ]
     },
     "execution_count": 104,
     "metadata": {},
     "output_type": "execute_result"
    }
   ],
   "source": [
    "data"
   ]
  },
  {
   "cell_type": "code",
   "execution_count": 105,
   "id": "f51436c1",
   "metadata": {},
   "outputs": [
    {
     "data": {
      "image/png": "[encoded data removed]",
      "text/plain": [
       "<Figure size 1440x360 with 1 Axes>"
      ]
     },
     "metadata": {
      "needs_background": "light"
     },
     "output_type": "display_data"
    }
   ],
   "source": [
    "data.Open.plot(figsize = (20,5))\n",
    "data.Close.plot(figsize = (20,5))\n",
    "plt.legend()\n",
    "plt.show()"
   ]
  },
  {
   "cell_type": "code",
   "execution_count": 106,
   "id": "979f1fa1",
   "metadata": {},
   "outputs": [
    {
     "data": {
      "text/html": [
       "<div>\n",
       "<style scoped>\n",
       "    .dataframe tbody tr th:only-of-type {\n",
       "        vertical-align: middle;\n",
       "    }\n",
       "\n",
       "    .dataframe tbody tr th {\n",
       "        vertical-align: top;\n",
       "    }\n",
       "\n",
       "    .dataframe thead th {\n",
       "        text-align: right;\n",
       "    }\n",
       "</style>\n",
       "<table border=\"1\" class=\"dataframe\">\n",
       "  <thead>\n",
       "    <tr style=\"text-align: right;\">\n",
       "      <th></th>\n",
       "      <th>Open</th>\n",
       "      <th>High</th>\n",
       "      <th>Low</th>\n",
       "      <th>Close</th>\n",
       "      <th>Mean</th>\n",
       "    </tr>\n",
       "    <tr>\n",
       "      <th>Date</th>\n",
       "      <th></th>\n",
       "      <th></th>\n",
       "      <th></th>\n",
       "      <th></th>\n",
       "      <th></th>\n",
       "    </tr>\n",
       "  </thead>\n",
       "  <tbody>\n",
       "    <tr>\n",
       "      <th>2021-12-22</th>\n",
       "      <td>1.45701</td>\n",
       "      <td>1.46134</td>\n",
       "      <td>1.45360</td>\n",
       "      <td>1.45449</td>\n",
       "      <td>1.455750</td>\n",
       "    </tr>\n",
       "    <tr>\n",
       "      <th>2021-12-23</th>\n",
       "      <td>1.45449</td>\n",
       "      <td>1.45750</td>\n",
       "      <td>1.44826</td>\n",
       "      <td>1.45112</td>\n",
       "      <td>1.452805</td>\n",
       "    </tr>\n",
       "    <tr>\n",
       "      <th>2021-12-24</th>\n",
       "      <td>1.45110</td>\n",
       "      <td>1.45510</td>\n",
       "      <td>1.44820</td>\n",
       "      <td>1.44948</td>\n",
       "      <td>1.450290</td>\n",
       "    </tr>\n",
       "    <tr>\n",
       "      <th>2021-12-27</th>\n",
       "      <td>1.44930</td>\n",
       "      <td>1.45361</td>\n",
       "      <td>1.44635</td>\n",
       "      <td>1.44818</td>\n",
       "      <td>1.448740</td>\n",
       "    </tr>\n",
       "    <tr>\n",
       "      <th>2021-12-28</th>\n",
       "      <td>1.44812</td>\n",
       "      <td>1.45128</td>\n",
       "      <td>1.44556</td>\n",
       "      <td>1.44919</td>\n",
       "      <td>1.448655</td>\n",
       "    </tr>\n",
       "  </tbody>\n",
       "</table>\n",
       "</div>"
      ],
      "text/plain": [
       "               Open     High      Low    Close      Mean\n",
       "Date                                                    \n",
       "2021-12-22  1.45701  1.46134  1.45360  1.45449  1.455750\n",
       "2021-12-23  1.45449  1.45750  1.44826  1.45112  1.452805\n",
       "2021-12-24  1.45110  1.45510  1.44820  1.44948  1.450290\n",
       "2021-12-27  1.44930  1.45361  1.44635  1.44818  1.448740\n",
       "2021-12-28  1.44812  1.45128  1.44556  1.44919  1.448655"
      ]
     },
     "execution_count": 106,
     "metadata": {},
     "output_type": "execute_result"
    }
   ],
   "source": [
    "data['Mean'] = (data.Open + data.Close) /2 \n",
    "data.tail()"
   ]
  },
  {
   "cell_type": "code",
   "execution_count": 107,
   "id": "1c9f8e44",
   "metadata": {},
   "outputs": [
    {
     "data": {
      "image/png": "[encoded data removed]",
      "text/plain": [
       "<Figure size 432x288 with 1 Axes>"
      ]
     },
     "metadata": {
      "needs_background": "light"
     },
     "output_type": "display_data"
    }
   ],
   "source": [
    "scipy.stats.probplot(data.Open, plot = pylab)\n",
    "pylab.show()"
   ]
  },
  {
   "cell_type": "code",
   "execution_count": 108,
   "id": "44c48cac",
   "metadata": {},
   "outputs": [],
   "source": [
    "data = data.asfreq(\"b\")"
   ]
  },
  {
   "cell_type": "code",
   "execution_count": 109,
   "id": "13d8f3d2",
   "metadata": {},
   "outputs": [
    {
     "data": {
      "text/html": [
       "<div>\n",
       "<style scoped>\n",
       "    .dataframe tbody tr th:only-of-type {\n",
       "        vertical-align: middle;\n",
       "    }\n",
       "\n",
       "    .dataframe tbody tr th {\n",
       "        vertical-align: top;\n",
       "    }\n",
       "\n",
       "    .dataframe thead th {\n",
       "        text-align: right;\n",
       "    }\n",
       "</style>\n",
       "<table border=\"1\" class=\"dataframe\">\n",
       "  <thead>\n",
       "    <tr style=\"text-align: right;\">\n",
       "      <th></th>\n",
       "      <th>Open</th>\n",
       "      <th>High</th>\n",
       "      <th>Low</th>\n",
       "      <th>Close</th>\n",
       "      <th>Mean</th>\n",
       "    </tr>\n",
       "    <tr>\n",
       "      <th>Date</th>\n",
       "      <th></th>\n",
       "      <th></th>\n",
       "      <th></th>\n",
       "      <th></th>\n",
       "      <th></th>\n",
       "    </tr>\n",
       "  </thead>\n",
       "  <tbody>\n",
       "    <tr>\n",
       "      <th>1971-01-04</th>\n",
       "      <td>0.5411</td>\n",
       "      <td>0.5411</td>\n",
       "      <td>0.5411</td>\n",
       "      <td>0.5411</td>\n",
       "      <td>0.5411</td>\n",
       "    </tr>\n",
       "    <tr>\n",
       "      <th>1971-01-05</th>\n",
       "      <td>0.5405</td>\n",
       "      <td>0.5405</td>\n",
       "      <td>0.5405</td>\n",
       "      <td>0.5405</td>\n",
       "      <td>0.5405</td>\n",
       "    </tr>\n",
       "    <tr>\n",
       "      <th>1971-01-06</th>\n",
       "      <td>0.5409</td>\n",
       "      <td>0.5409</td>\n",
       "      <td>0.5409</td>\n",
       "      <td>0.5409</td>\n",
       "      <td>0.5409</td>\n",
       "    </tr>\n",
       "    <tr>\n",
       "      <th>1971-01-07</th>\n",
       "      <td>0.5432</td>\n",
       "      <td>0.5432</td>\n",
       "      <td>0.5432</td>\n",
       "      <td>0.5432</td>\n",
       "      <td>0.5432</td>\n",
       "    </tr>\n",
       "    <tr>\n",
       "      <th>1971-01-08</th>\n",
       "      <td>0.5436</td>\n",
       "      <td>0.5436</td>\n",
       "      <td>0.5436</td>\n",
       "      <td>0.5436</td>\n",
       "      <td>0.5436</td>\n",
       "    </tr>\n",
       "    <tr>\n",
       "      <th>1971-01-11</th>\n",
       "      <td>0.5441</td>\n",
       "      <td>0.5441</td>\n",
       "      <td>0.5441</td>\n",
       "      <td>0.5441</td>\n",
       "      <td>0.5441</td>\n",
       "    </tr>\n",
       "    <tr>\n",
       "      <th>1971-01-12</th>\n",
       "      <td>0.5425</td>\n",
       "      <td>0.5425</td>\n",
       "      <td>0.5425</td>\n",
       "      <td>0.5425</td>\n",
       "      <td>0.5425</td>\n",
       "    </tr>\n",
       "    <tr>\n",
       "      <th>1971-01-13</th>\n",
       "      <td>0.5423</td>\n",
       "      <td>0.5423</td>\n",
       "      <td>0.5423</td>\n",
       "      <td>0.5423</td>\n",
       "      <td>0.5423</td>\n",
       "    </tr>\n",
       "    <tr>\n",
       "      <th>1971-01-14</th>\n",
       "      <td>0.5431</td>\n",
       "      <td>0.5431</td>\n",
       "      <td>0.5431</td>\n",
       "      <td>0.5431</td>\n",
       "      <td>0.5431</td>\n",
       "    </tr>\n",
       "    <tr>\n",
       "      <th>1971-01-15</th>\n",
       "      <td>0.5433</td>\n",
       "      <td>0.5433</td>\n",
       "      <td>0.5433</td>\n",
       "      <td>0.5433</td>\n",
       "      <td>0.5433</td>\n",
       "    </tr>\n",
       "    <tr>\n",
       "      <th>1971-01-18</th>\n",
       "      <td>0.5431</td>\n",
       "      <td>0.5431</td>\n",
       "      <td>0.5431</td>\n",
       "      <td>0.5431</td>\n",
       "      <td>0.5431</td>\n",
       "    </tr>\n",
       "    <tr>\n",
       "      <th>1971-01-19</th>\n",
       "      <td>0.5422</td>\n",
       "      <td>0.5422</td>\n",
       "      <td>0.5422</td>\n",
       "      <td>0.5422</td>\n",
       "      <td>0.5422</td>\n",
       "    </tr>\n",
       "    <tr>\n",
       "      <th>1971-01-20</th>\n",
       "      <td>0.5430</td>\n",
       "      <td>0.5430</td>\n",
       "      <td>0.5430</td>\n",
       "      <td>0.5430</td>\n",
       "      <td>0.5430</td>\n",
       "    </tr>\n",
       "    <tr>\n",
       "      <th>1971-01-21</th>\n",
       "      <td>0.5429</td>\n",
       "      <td>0.5429</td>\n",
       "      <td>0.5429</td>\n",
       "      <td>0.5429</td>\n",
       "      <td>0.5429</td>\n",
       "    </tr>\n",
       "    <tr>\n",
       "      <th>1971-01-22</th>\n",
       "      <td>0.5434</td>\n",
       "      <td>0.5434</td>\n",
       "      <td>0.5434</td>\n",
       "      <td>0.5434</td>\n",
       "      <td>0.5434</td>\n",
       "    </tr>\n",
       "  </tbody>\n",
       "</table>\n",
       "</div>"
      ],
      "text/plain": [
       "              Open    High     Low   Close    Mean\n",
       "Date                                              \n",
       "1971-01-04  0.5411  0.5411  0.5411  0.5411  0.5411\n",
       "1971-01-05  0.5405  0.5405  0.5405  0.5405  0.5405\n",
       "1971-01-06  0.5409  0.5409  0.5409  0.5409  0.5409\n",
       "1971-01-07  0.5432  0.5432  0.5432  0.5432  0.5432\n",
       "1971-01-08  0.5436  0.5436  0.5436  0.5436  0.5436\n",
       "1971-01-11  0.5441  0.5441  0.5441  0.5441  0.5441\n",
       "1971-01-12  0.5425  0.5425  0.5425  0.5425  0.5425\n",
       "1971-01-13  0.5423  0.5423  0.5423  0.5423  0.5423\n",
       "1971-01-14  0.5431  0.5431  0.5431  0.5431  0.5431\n",
       "1971-01-15  0.5433  0.5433  0.5433  0.5433  0.5433\n",
       "1971-01-18  0.5431  0.5431  0.5431  0.5431  0.5431\n",
       "1971-01-19  0.5422  0.5422  0.5422  0.5422  0.5422\n",
       "1971-01-20  0.5430  0.5430  0.5430  0.5430  0.5430\n",
       "1971-01-21  0.5429  0.5429  0.5429  0.5429  0.5429\n",
       "1971-01-22  0.5434  0.5434  0.5434  0.5434  0.5434"
      ]
     },
     "execution_count": 109,
     "metadata": {},
     "output_type": "execute_result"
    }
   ],
   "source": [
    "data.head(15)"
   ]
  },
  {
   "cell_type": "code",
   "execution_count": 110,
   "id": "d694b214",
   "metadata": {},
   "outputs": [
    {
     "data": {
      "text/plain": [
       "Open     300\n",
       "High     300\n",
       "Low      300\n",
       "Close    300\n",
       "Mean     300\n",
       "dtype: int64"
      ]
     },
     "execution_count": 110,
     "metadata": {},
     "output_type": "execute_result"
    }
   ],
   "source": [
    "data.isna().sum()"
   ]
  },
  {
   "cell_type": "code",
   "execution_count": 111,
   "id": "5a80d639",
   "metadata": {},
   "outputs": [],
   "source": [
    "data = data.fillna(method = 'ffill')"
   ]
  },
  {
   "cell_type": "code",
   "execution_count": 112,
   "id": "1e0b6584",
   "metadata": {},
   "outputs": [
    {
     "data": {
      "text/plain": [
       "Open     0\n",
       "High     0\n",
       "Low      0\n",
       "Close    0\n",
       "Mean     0\n",
       "dtype: int64"
      ]
     },
     "execution_count": 112,
     "metadata": {},
     "output_type": "execute_result"
    }
   ],
   "source": [
    "data.isna().sum()"
   ]
  },
  {
   "cell_type": "code",
   "execution_count": 113,
   "id": "6a9e16d0",
   "metadata": {},
   "outputs": [
    {
     "name": "stdout",
     "output_type": "stream",
     "text": [
      "               Open     High      Low    Close      Mean\n",
      "Date                                                    \n",
      "1971-01-04  0.54110  0.54110  0.54110  0.54110  0.541100\n",
      "1971-01-05  0.54050  0.54050  0.54050  0.54050  0.540500\n",
      "1971-01-06  0.54090  0.54090  0.54090  0.54090  0.540900\n",
      "1971-01-07  0.54320  0.54320  0.54320  0.54320  0.543200\n",
      "1971-01-08  0.54360  0.54360  0.54360  0.54360  0.543600\n",
      "...             ...      ...      ...      ...       ...\n",
      "2021-12-22  1.45701  1.46134  1.45360  1.45449  1.455750\n",
      "2021-12-23  1.45449  1.45750  1.44826  1.45112  1.452805\n",
      "2021-12-24  1.45110  1.45510  1.44820  1.44948  1.450290\n",
      "2021-12-27  1.44930  1.45361  1.44635  1.44818  1.448740\n",
      "2021-12-28  1.44812  1.45128  1.44556  1.44919  1.448655\n",
      "\n",
      "[13302 rows x 5 columns]\n"
     ]
    }
   ],
   "source": [
    "print(data)"
   ]
  },
  {
   "cell_type": "code",
   "execution_count": 114,
   "id": "d2a9f345",
   "metadata": {},
   "outputs": [
    {
     "data": {
      "image/png": "[encoded data removed]",
      "text/plain": [
       "<Figure size 432x288 with 1 Axes>"
      ]
     },
     "metadata": {
      "needs_background": "light"
     },
     "output_type": "display_data"
    }
   ],
   "source": [
    "scipy.stats.probplot(data.Open, plot = pylab)\n",
    "pylab.show()"
   ]
  },
  {
   "cell_type": "code",
   "execution_count": 115,
   "id": "4ebc91c1",
   "metadata": {},
   "outputs": [
    {
     "data": {
      "text/html": [
       "<div>\n",
       "<style scoped>\n",
       "    .dataframe tbody tr th:only-of-type {\n",
       "        vertical-align: middle;\n",
       "    }\n",
       "\n",
       "    .dataframe tbody tr th {\n",
       "        vertical-align: top;\n",
       "    }\n",
       "\n",
       "    .dataframe thead th {\n",
       "        text-align: right;\n",
       "    }\n",
       "</style>\n",
       "<table border=\"1\" class=\"dataframe\">\n",
       "  <thead>\n",
       "    <tr style=\"text-align: right;\">\n",
       "      <th></th>\n",
       "      <th>Open</th>\n",
       "      <th>High</th>\n",
       "      <th>Low</th>\n",
       "      <th>Close</th>\n",
       "      <th>Mean</th>\n",
       "    </tr>\n",
       "  </thead>\n",
       "  <tbody>\n",
       "    <tr>\n",
       "      <th>count</th>\n",
       "      <td>13302.000000</td>\n",
       "      <td>13302.000000</td>\n",
       "      <td>13302.000000</td>\n",
       "      <td>13302.000000</td>\n",
       "      <td>13302.000000</td>\n",
       "    </tr>\n",
       "    <tr>\n",
       "      <th>mean</th>\n",
       "      <td>1.308626</td>\n",
       "      <td>1.311297</td>\n",
       "      <td>1.306007</td>\n",
       "      <td>1.308633</td>\n",
       "      <td>1.308630</td>\n",
       "    </tr>\n",
       "    <tr>\n",
       "      <th>std</th>\n",
       "      <td>0.307173</td>\n",
       "      <td>0.308690</td>\n",
       "      <td>0.305717</td>\n",
       "      <td>0.307168</td>\n",
       "      <td>0.307158</td>\n",
       "    </tr>\n",
       "    <tr>\n",
       "      <th>min</th>\n",
       "      <td>0.538800</td>\n",
       "      <td>0.538800</td>\n",
       "      <td>0.538800</td>\n",
       "      <td>0.538800</td>\n",
       "      <td>0.538800</td>\n",
       "    </tr>\n",
       "    <tr>\n",
       "      <th>25%</th>\n",
       "      <td>1.150775</td>\n",
       "      <td>1.150775</td>\n",
       "      <td>1.150775</td>\n",
       "      <td>1.150775</td>\n",
       "      <td>1.150775</td>\n",
       "    </tr>\n",
       "    <tr>\n",
       "      <th>50%</th>\n",
       "      <td>1.406250</td>\n",
       "      <td>1.410030</td>\n",
       "      <td>1.402100</td>\n",
       "      <td>1.406400</td>\n",
       "      <td>1.406250</td>\n",
       "    </tr>\n",
       "    <tr>\n",
       "      <th>75%</th>\n",
       "      <td>1.526745</td>\n",
       "      <td>1.531300</td>\n",
       "      <td>1.522300</td>\n",
       "      <td>1.526892</td>\n",
       "      <td>1.526587</td>\n",
       "    </tr>\n",
       "    <tr>\n",
       "      <th>max</th>\n",
       "      <td>1.895800</td>\n",
       "      <td>1.895800</td>\n",
       "      <td>1.895800</td>\n",
       "      <td>1.895800</td>\n",
       "      <td>1.895800</td>\n",
       "    </tr>\n",
       "  </tbody>\n",
       "</table>\n",
       "</div>"
      ],
      "text/plain": [
       "               Open          High           Low         Close          Mean\n",
       "count  13302.000000  13302.000000  13302.000000  13302.000000  13302.000000\n",
       "mean       1.308626      1.311297      1.306007      1.308633      1.308630\n",
       "std        0.307173      0.308690      0.305717      0.307168      0.307158\n",
       "min        0.538800      0.538800      0.538800      0.538800      0.538800\n",
       "25%        1.150775      1.150775      1.150775      1.150775      1.150775\n",
       "50%        1.406250      1.410030      1.402100      1.406400      1.406250\n",
       "75%        1.526745      1.531300      1.522300      1.526892      1.526587\n",
       "max        1.895800      1.895800      1.895800      1.895800      1.895800"
      ]
     },
     "execution_count": 115,
     "metadata": {},
     "output_type": "execute_result"
    }
   ],
   "source": [
    "data.describe()"
   ]
  },
  {
   "cell_type": "code",
   "execution_count": 116,
   "id": "ee83b584",
   "metadata": {},
   "outputs": [
    {
     "data": {
      "image/png": "[encoded data removed]",
      "text/plain": [
       "<Figure size 432x288 with 1 Axes>"
      ]
     },
     "metadata": {
      "needs_background": "light"
     },
     "output_type": "display_data"
    }
   ],
   "source": [
    "boxplot = data.boxplot(column=['Open', 'High', 'Low', 'Close','Mean'])"
   ]
  },
  {
   "cell_type": "code",
   "execution_count": 117,
   "id": "023f7fb7",
   "metadata": {},
   "outputs": [],
   "source": [
    "data_train_size = int(len(data)*.8)"
   ]
  },
  {
   "cell_type": "code",
   "execution_count": 118,
   "id": "ff5e149b",
   "metadata": {},
   "outputs": [],
   "source": [
    "data_train = data.iloc[:data_train_size]"
   ]
  },
  {
   "cell_type": "code",
   "execution_count": 119,
   "id": "267b082c",
   "metadata": {},
   "outputs": [],
   "source": [
    "data_test = data.iloc[data_train_size:]"
   ]
  },
  {
   "cell_type": "code",
   "execution_count": 120,
   "id": "075ce761",
   "metadata": {},
   "outputs": [
    {
     "data": {
      "text/html": [
       "<div>\n",
       "<style scoped>\n",
       "    .dataframe tbody tr th:only-of-type {\n",
       "        vertical-align: middle;\n",
       "    }\n",
       "\n",
       "    .dataframe tbody tr th {\n",
       "        vertical-align: top;\n",
       "    }\n",
       "\n",
       "    .dataframe thead th {\n",
       "        text-align: right;\n",
       "    }\n",
       "</style>\n",
       "<table border=\"1\" class=\"dataframe\">\n",
       "  <thead>\n",
       "    <tr style=\"text-align: right;\">\n",
       "      <th></th>\n",
       "      <th>Open</th>\n",
       "      <th>High</th>\n",
       "      <th>Low</th>\n",
       "      <th>Close</th>\n",
       "      <th>Mean</th>\n",
       "    </tr>\n",
       "    <tr>\n",
       "      <th>Date</th>\n",
       "      <th></th>\n",
       "      <th></th>\n",
       "      <th></th>\n",
       "      <th></th>\n",
       "      <th></th>\n",
       "    </tr>\n",
       "  </thead>\n",
       "  <tbody>\n",
       "    <tr>\n",
       "      <th>2011-10-11</th>\n",
       "      <td>1.4002</td>\n",
       "      <td>1.4082</td>\n",
       "      <td>1.3976</td>\n",
       "      <td>1.4040</td>\n",
       "      <td>1.40210</td>\n",
       "    </tr>\n",
       "    <tr>\n",
       "      <th>2011-10-12</th>\n",
       "      <td>1.4038</td>\n",
       "      <td>1.4082</td>\n",
       "      <td>1.3973</td>\n",
       "      <td>1.4025</td>\n",
       "      <td>1.40315</td>\n",
       "    </tr>\n",
       "    <tr>\n",
       "      <th>2011-10-13</th>\n",
       "      <td>1.4031</td>\n",
       "      <td>1.4076</td>\n",
       "      <td>1.4006</td>\n",
       "      <td>1.4061</td>\n",
       "      <td>1.40460</td>\n",
       "    </tr>\n",
       "    <tr>\n",
       "      <th>2011-10-14</th>\n",
       "      <td>1.4061</td>\n",
       "      <td>1.4076</td>\n",
       "      <td>1.3967</td>\n",
       "      <td>1.4016</td>\n",
       "      <td>1.40385</td>\n",
       "    </tr>\n",
       "    <tr>\n",
       "      <th>2011-10-17</th>\n",
       "      <td>1.4026</td>\n",
       "      <td>1.4070</td>\n",
       "      <td>1.3921</td>\n",
       "      <td>1.4058</td>\n",
       "      <td>1.40420</td>\n",
       "    </tr>\n",
       "  </tbody>\n",
       "</table>\n",
       "</div>"
      ],
      "text/plain": [
       "              Open    High     Low   Close     Mean\n",
       "Date                                               \n",
       "2011-10-11  1.4002  1.4082  1.3976  1.4040  1.40210\n",
       "2011-10-12  1.4038  1.4082  1.3973  1.4025  1.40315\n",
       "2011-10-13  1.4031  1.4076  1.4006  1.4061  1.40460\n",
       "2011-10-14  1.4061  1.4076  1.3967  1.4016  1.40385\n",
       "2011-10-17  1.4026  1.4070  1.3921  1.4058  1.40420"
      ]
     },
     "execution_count": 120,
     "metadata": {},
     "output_type": "execute_result"
    }
   ],
   "source": [
    "data_train.tail()"
   ]
  },
  {
   "cell_type": "code",
   "execution_count": 121,
   "id": "73ff3b28",
   "metadata": {},
   "outputs": [
    {
     "data": {
      "text/html": [
       "<div>\n",
       "<style scoped>\n",
       "    .dataframe tbody tr th:only-of-type {\n",
       "        vertical-align: middle;\n",
       "    }\n",
       "\n",
       "    .dataframe tbody tr th {\n",
       "        vertical-align: top;\n",
       "    }\n",
       "\n",
       "    .dataframe thead th {\n",
       "        text-align: right;\n",
       "    }\n",
       "</style>\n",
       "<table border=\"1\" class=\"dataframe\">\n",
       "  <thead>\n",
       "    <tr style=\"text-align: right;\">\n",
       "      <th></th>\n",
       "      <th>Open</th>\n",
       "      <th>High</th>\n",
       "      <th>Low</th>\n",
       "      <th>Close</th>\n",
       "      <th>Mean</th>\n",
       "    </tr>\n",
       "    <tr>\n",
       "      <th>Date</th>\n",
       "      <th></th>\n",
       "      <th></th>\n",
       "      <th></th>\n",
       "      <th></th>\n",
       "      <th></th>\n",
       "    </tr>\n",
       "  </thead>\n",
       "  <tbody>\n",
       "    <tr>\n",
       "      <th>2011-10-18</th>\n",
       "      <td>1.4056</td>\n",
       "      <td>1.4086</td>\n",
       "      <td>1.3926</td>\n",
       "      <td>1.3942</td>\n",
       "      <td>1.39990</td>\n",
       "    </tr>\n",
       "    <tr>\n",
       "      <th>2011-10-19</th>\n",
       "      <td>1.3945</td>\n",
       "      <td>1.4042</td>\n",
       "      <td>1.3932</td>\n",
       "      <td>1.4024</td>\n",
       "      <td>1.39845</td>\n",
       "    </tr>\n",
       "    <tr>\n",
       "      <th>2011-10-20</th>\n",
       "      <td>1.4022</td>\n",
       "      <td>1.4048</td>\n",
       "      <td>1.3936</td>\n",
       "      <td>1.4001</td>\n",
       "      <td>1.40115</td>\n",
       "    </tr>\n",
       "    <tr>\n",
       "      <th>2011-10-21</th>\n",
       "      <td>1.3999</td>\n",
       "      <td>1.4024</td>\n",
       "      <td>1.3939</td>\n",
       "      <td>1.3987</td>\n",
       "      <td>1.39930</td>\n",
       "    </tr>\n",
       "    <tr>\n",
       "      <th>2011-10-24</th>\n",
       "      <td>1.4005</td>\n",
       "      <td>1.4026</td>\n",
       "      <td>1.3912</td>\n",
       "      <td>1.3986</td>\n",
       "      <td>1.39955</td>\n",
       "    </tr>\n",
       "  </tbody>\n",
       "</table>\n",
       "</div>"
      ],
      "text/plain": [
       "              Open    High     Low   Close     Mean\n",
       "Date                                               \n",
       "2011-10-18  1.4056  1.4086  1.3926  1.3942  1.39990\n",
       "2011-10-19  1.3945  1.4042  1.3932  1.4024  1.39845\n",
       "2011-10-20  1.4022  1.4048  1.3936  1.4001  1.40115\n",
       "2011-10-21  1.3999  1.4024  1.3939  1.3987  1.39930\n",
       "2011-10-24  1.4005  1.4026  1.3912  1.3986  1.39955"
      ]
     },
     "execution_count": 121,
     "metadata": {},
     "output_type": "execute_result"
    }
   ],
   "source": [
    "data_test.head()"
   ]
  },
  {
   "cell_type": "code",
   "execution_count": 123,
   "id": "c50b381c",
   "metadata": {},
   "outputs": [],
   "source": [
    "wn = np.random.normal(loc = data_train.Mean.mean(), scale = data_train.Mean.std(), size = len(data_train))"
   ]
  },
  {
   "cell_type": "code",
   "execution_count": 124,
   "id": "7cda0881",
   "metadata": {},
   "outputs": [
    {
     "name": "stderr",
     "output_type": "stream",
     "text": [
      "C:\\Users\\Marzieh\\AppData\\Local\\Temp/ipykernel_9660/406749862.py:1: SettingWithCopyWarning: \n",
      "A value is trying to be set on a copy of a slice from a DataFrame.\n",
      "Try using .loc[row_indexer,col_indexer] = value instead\n",
      "\n",
      "See the caveats in the documentation: https://pandas.pydata.org/pandas-docs/stable/user_guide/indexing.html#returning-a-view-versus-a-copy\n",
      "  data_train['WN'] = wn\n"
     ]
    }
   ],
   "source": [
    "data_train['WN'] = wn"
   ]
  },
  {
   "cell_type": "code",
   "execution_count": 125,
   "id": "0fcabe33",
   "metadata": {},
   "outputs": [
    {
     "data": {
      "text/html": [
       "<div>\n",
       "<style scoped>\n",
       "    .dataframe tbody tr th:only-of-type {\n",
       "        vertical-align: middle;\n",
       "    }\n",
       "\n",
       "    .dataframe tbody tr th {\n",
       "        vertical-align: top;\n",
       "    }\n",
       "\n",
       "    .dataframe thead th {\n",
       "        text-align: right;\n",
       "    }\n",
       "</style>\n",
       "<table border=\"1\" class=\"dataframe\">\n",
       "  <thead>\n",
       "    <tr style=\"text-align: right;\">\n",
       "      <th></th>\n",
       "      <th>Open</th>\n",
       "      <th>High</th>\n",
       "      <th>Low</th>\n",
       "      <th>Close</th>\n",
       "      <th>Mean</th>\n",
       "      <th>WN</th>\n",
       "    </tr>\n",
       "  </thead>\n",
       "  <tbody>\n",
       "    <tr>\n",
       "      <th>count</th>\n",
       "      <td>10641.000000</td>\n",
       "      <td>10641.000000</td>\n",
       "      <td>10641.000000</td>\n",
       "      <td>10641.000000</td>\n",
       "      <td>10641.000000</td>\n",
       "      <td>10641.000000</td>\n",
       "    </tr>\n",
       "    <tr>\n",
       "      <th>mean</th>\n",
       "      <td>1.273708</td>\n",
       "      <td>1.275645</td>\n",
       "      <td>1.271791</td>\n",
       "      <td>1.273717</td>\n",
       "      <td>1.273713</td>\n",
       "      <td>1.272598</td>\n",
       "    </tr>\n",
       "    <tr>\n",
       "      <th>std</th>\n",
       "      <td>0.331994</td>\n",
       "      <td>0.333345</td>\n",
       "      <td>0.330696</td>\n",
       "      <td>0.331992</td>\n",
       "      <td>0.331984</td>\n",
       "      <td>0.327623</td>\n",
       "    </tr>\n",
       "    <tr>\n",
       "      <th>min</th>\n",
       "      <td>0.538800</td>\n",
       "      <td>0.538800</td>\n",
       "      <td>0.538800</td>\n",
       "      <td>0.538800</td>\n",
       "      <td>0.538800</td>\n",
       "      <td>0.055069</td>\n",
       "    </tr>\n",
       "    <tr>\n",
       "      <th>25%</th>\n",
       "      <td>0.992700</td>\n",
       "      <td>0.992700</td>\n",
       "      <td>0.992700</td>\n",
       "      <td>0.992700</td>\n",
       "      <td>0.992700</td>\n",
       "      <td>1.053674</td>\n",
       "    </tr>\n",
       "    <tr>\n",
       "      <th>50%</th>\n",
       "      <td>1.371800</td>\n",
       "      <td>1.375400</td>\n",
       "      <td>1.368700</td>\n",
       "      <td>1.371900</td>\n",
       "      <td>1.372100</td>\n",
       "      <td>1.275155</td>\n",
       "    </tr>\n",
       "    <tr>\n",
       "      <th>75%</th>\n",
       "      <td>1.541500</td>\n",
       "      <td>1.545000</td>\n",
       "      <td>1.537800</td>\n",
       "      <td>1.541500</td>\n",
       "      <td>1.541850</td>\n",
       "      <td>1.492995</td>\n",
       "    </tr>\n",
       "    <tr>\n",
       "      <th>max</th>\n",
       "      <td>1.895800</td>\n",
       "      <td>1.895800</td>\n",
       "      <td>1.895800</td>\n",
       "      <td>1.895800</td>\n",
       "      <td>1.895800</td>\n",
       "      <td>2.493774</td>\n",
       "    </tr>\n",
       "  </tbody>\n",
       "</table>\n",
       "</div>"
      ],
      "text/plain": [
       "               Open          High           Low         Close          Mean  \\\n",
       "count  10641.000000  10641.000000  10641.000000  10641.000000  10641.000000   \n",
       "mean       1.273708      1.275645      1.271791      1.273717      1.273713   \n",
       "std        0.331994      0.333345      0.330696      0.331992      0.331984   \n",
       "min        0.538800      0.538800      0.538800      0.538800      0.538800   \n",
       "25%        0.992700      0.992700      0.992700      0.992700      0.992700   \n",
       "50%        1.371800      1.375400      1.368700      1.371900      1.372100   \n",
       "75%        1.541500      1.545000      1.537800      1.541500      1.541850   \n",
       "max        1.895800      1.895800      1.895800      1.895800      1.895800   \n",
       "\n",
       "                 WN  \n",
       "count  10641.000000  \n",
       "mean       1.272598  \n",
       "std        0.327623  \n",
       "min        0.055069  \n",
       "25%        1.053674  \n",
       "50%        1.275155  \n",
       "75%        1.492995  \n",
       "max        2.493774  "
      ]
     },
     "execution_count": 125,
     "metadata": {},
     "output_type": "execute_result"
    }
   ],
   "source": [
    "data_train.describe()"
   ]
  },
  {
   "cell_type": "code",
   "execution_count": 130,
   "id": "061458dd",
   "metadata": {},
   "outputs": [
    {
     "data": {
      "image/png": "[encoded data removed]",
      "text/plain": [
       "<Figure size 1440x360 with 1 Axes>"
      ]
     },
     "metadata": {
      "needs_background": "light"
     },
     "output_type": "display_data"
    }
   ],
   "source": [
    "data_train.WN.plot(title = 'White Noise Time Series', figsize = (20,5))\n",
    "data_train.Open.plot(figsize = (20,5))\n",
    "plt.legend()\n",
    "plt.show()"
   ]
  },
  {
   "cell_type": "code",
   "execution_count": 136,
   "id": "b924bc7d",
   "metadata": {},
   "outputs": [
    {
     "data": {
      "text/plain": [
       "(-2.2407883943444435,\n",
       " 0.19177594133345433,\n",
       " 1,\n",
       " 10639,\n",
       " {'1%': -3.4309648020003425,\n",
       "  '5%': -2.8618117077096987,\n",
       "  '10%': -2.5669146248734442},\n",
       " -70409.49511974494)"
      ]
     },
     "execution_count": 136,
     "metadata": {},
     "output_type": "execute_result"
    }
   ],
   "source": [
    "tst.adfuller(data_train.Open)"
   ]
  },
  {
   "cell_type": "code",
   "execution_count": 137,
   "id": "09b901dd",
   "metadata": {},
   "outputs": [
    {
     "data": {
      "text/plain": [
       "(-2.2449896524430915,\n",
       " 0.1903236764832571,\n",
       " 10,\n",
       " 10630,\n",
       " {'1%': -3.430965322654626,\n",
       "  '5%': -2.8618119377856095,\n",
       "  '10%': -2.566914747342626},\n",
       " -72331.56655571659)"
      ]
     },
     "execution_count": 137,
     "metadata": {},
     "output_type": "execute_result"
    }
   ],
   "source": [
    "sts.adfuller(data_train.Mean)"
   ]
  },
  {
   "cell_type": "code",
   "execution_count": 138,
   "id": "614f2196",
   "metadata": {},
   "outputs": [
    {
     "data": {
      "text/plain": [
       "(-101.1613864174445,\n",
       " 0.0,\n",
       " 0,\n",
       " 10640,\n",
       " {'1%': -3.43096474420425,\n",
       "  '5%': -2.861811682169738,\n",
       "  '10%': -2.566914611278549},\n",
       " 6416.391506882781)"
      ]
     },
     "execution_count": 138,
     "metadata": {},
     "output_type": "execute_result"
    }
   ],
   "source": [
    "sts.adfuller(data_train.WN)"
   ]
  },
  {
   "cell_type": "code",
   "execution_count": 143,
   "id": "a817294f",
   "metadata": {},
   "outputs": [],
   "source": [
    "season_decom_add = seasonal_decompose(data_train.Mean, model = \"additive\")"
   ]
  },
  {
   "cell_type": "code",
   "execution_count": 149,
   "id": "1b63dccf",
   "metadata": {},
   "outputs": [
    {
     "data": {
      "image/png": "[encoded data removed]",
      "text/plain": [
       "<Figure size 432x288 with 4 Axes>"
      ]
     },
     "metadata": {
      "needs_background": "light"
     },
     "output_type": "display_data"
    },
    {
     "data": {
      "text/plain": [
       "<Figure size 1440x360 with 0 Axes>"
      ]
     },
     "metadata": {},
     "output_type": "display_data"
    }
   ],
   "source": [
    "season_decom_add.plot()\n",
    "plt.show()"
   ]
  },
  {
   "cell_type": "code",
   "execution_count": 150,
   "id": "a1a294e0",
   "metadata": {},
   "outputs": [
    {
     "data": {
      "image/png": "[encoded data removed]",
      "text/plain": [
       "<Figure size 432x288 with 4 Axes>"
      ]
     },
     "metadata": {
      "needs_background": "light"
     },
     "output_type": "display_data"
    }
   ],
   "source": [
    "season_decom_mul = seasonal_decompose(data_train.Mean, model = \"multiplicative\")\n",
    "season_decom_mul.plot()\n",
    "plt.show()"
   ]
  },
  {
   "cell_type": "code",
   "execution_count": 169,
   "id": "7703e57b",
   "metadata": {},
   "outputs": [
    {
     "data": {
      "image/png": "[encoded data removed]",
      "text/plain": [
       "<Figure size 432x288 with 1 Axes>"
      ]
     },
     "metadata": {
      "needs_background": "light"
     },
     "output_type": "display_data"
    }
   ],
   "source": [
    "sgt.plot_acf(data_train.Mean,lags = 40, zero = False)\n",
    "plt.show()"
   ]
  },
  {
   "cell_type": "code",
   "execution_count": 153,
   "id": "fd75328d",
   "metadata": {},
   "outputs": [
    {
     "data": {
      "image/png": "[encoded data removed]",
      "text/plain": [
       "<Figure size 432x288 with 1 Axes>"
      ]
     },
     "metadata": {
      "needs_background": "light"
     },
     "output_type": "display_data"
    }
   ],
   "source": [
    "sgt.plot_acf(data_train.WN,lags = 40, zero = False)\n",
    "plt.show()"
   ]
  },
  {
   "cell_type": "code",
   "execution_count": 160,
   "id": "924da0be",
   "metadata": {},
   "outputs": [
    {
     "name": "stderr",
     "output_type": "stream",
     "text": [
      "c:\\users\\marzieh\\appdata\\local\\programs\\python\\python38\\lib\\site-packages\\statsmodels\\graphics\\tsaplots.py:348: FutureWarning: The default method 'yw' can produce PACF values outside of the [-1,1] interval. After 0.13, the default will change tounadjusted Yule-Walker ('ywm'). You can use this method now by setting method='ywm'.\n",
      "  warnings.warn(\n"
     ]
    },
    {
     "data": {
      "image/png": "[encoded data removed]",
      "text/plain": [
       "<Figure size 432x288 with 1 Axes>"
      ]
     },
     "metadata": {
      "needs_background": "light"
     },
     "output_type": "display_data"
    }
   ],
   "source": [
    "sgt.plot_pacf(data_train.Mean, lags = 40, zero = False)\n",
    "plt.show()"
   ]
  },
  {
   "cell_type": "code",
   "execution_count": 161,
   "id": "2bb1d6f9",
   "metadata": {},
   "outputs": [],
   "source": [
    "def difference(data, interval = 1):\n",
    "    diff = []\n",
    "    for i in range(interval, len(data)):\n",
    "        value = data[i] - data[i - interval]\n",
    "        diff.append(value)\n",
    "    return diff\n",
    "        "
   ]
  },
  {
   "cell_type": "code",
   "execution_count": 165,
   "id": "effe08e2",
   "metadata": {},
   "outputs": [
    {
     "data": {
      "text/plain": [
       "(-31.678524769783333,\n",
       " 0.0,\n",
       " 9,\n",
       " 10630,\n",
       " {'1%': -3.430965322654626,\n",
       "  '5%': -2.8618119377856095,\n",
       "  '10%': -2.566914747342626},\n",
       " -72320.5933991612)"
      ]
     },
     "execution_count": 165,
     "metadata": {},
     "output_type": "execute_result"
    }
   ],
   "source": [
    "data_diff = difference(data_train.Mean)\n",
    "sts.adfuller(data_diff)"
   ]
  },
  {
   "cell_type": "code",
   "execution_count": 171,
   "id": "257cafe7",
   "metadata": {},
   "outputs": [
    {
     "data": {
      "image/png": "[encoded data removed]",
      "text/plain": [
       "<Figure size 432x288 with 1 Axes>"
      ]
     },
     "metadata": {
      "needs_background": "light"
     },
     "output_type": "display_data"
    }
   ],
   "source": [
    "sgt.plot_acf(data_diff,lags = 40, zero = False)\n",
    "plt.show()"
   ]
  },
  {
   "cell_type": "code",
   "execution_count": 168,
   "id": "0c9b8163",
   "metadata": {},
   "outputs": [
    {
     "name": "stderr",
     "output_type": "stream",
     "text": [
      "c:\\users\\marzieh\\appdata\\local\\programs\\python\\python38\\lib\\site-packages\\statsmodels\\graphics\\tsaplots.py:348: FutureWarning: The default method 'yw' can produce PACF values outside of the [-1,1] interval. After 0.13, the default will change tounadjusted Yule-Walker ('ywm'). You can use this method now by setting method='ywm'.\n",
      "  warnings.warn(\n"
     ]
    },
    {
     "data": {
      "image/png": "[encoded data removed]",
      "text/plain": [
       "<Figure size 432x288 with 1 Axes>"
      ]
     },
     "metadata": {
      "needs_background": "light"
     },
     "output_type": "display_data"
    }
   ],
   "source": [
    "sgt.plot_pacf(data_diff, lags = 40, zero = False)\n",
    "plt.show()"
   ]
  },
  {
   "cell_type": "code",
   "execution_count": 174,
   "id": "58f06ff3",
   "metadata": {},
   "outputs": [
    {
     "data": {
      "text/plain": [
       "[<matplotlib.lines.Line2D at 0x186b5ef5670>]"
      ]
     },
     "execution_count": 174,
     "metadata": {},
     "output_type": "execute_result"
    },
    {
     "data": {
      "image/png": "[encoded data removed]",
      "text/plain": [
       "<Figure size 432x288 with 1 Axes>"
      ]
     },
     "metadata": {
      "needs_background": "light"
     },
     "output_type": "display_data"
    }
   ],
   "source": [
    "plt.plot(data_diff)\n"
   ]
  },
  {
   "cell_type": "code",
   "execution_count": 211,
   "id": "76f89b33",
   "metadata": {},
   "outputs": [
    {
     "data": {
      "text/html": [
       "<table class=\"simpletable\">\n",
       "<caption>SARIMAX Results</caption>\n",
       "<tr>\n",
       "  <th>Dep. Variable:</th>           <td>y</td>        <th>  No. Observations:  </th>    <td>10640</td>  \n",
       "</tr>\n",
       "<tr>\n",
       "  <th>Model:</th>            <td>ARIMA(9, 0, 0)</td>  <th>  Log Likelihood     </th>  <td>36326.310</td>\n",
       "</tr>\n",
       "<tr>\n",
       "  <th>Date:</th>            <td>Wed, 29 Dec 2021</td> <th>  AIC                </th> <td>-72630.619</td>\n",
       "</tr>\n",
       "<tr>\n",
       "  <th>Time:</th>                <td>20:58:55</td>     <th>  BIC                </th> <td>-72550.623</td>\n",
       "</tr>\n",
       "<tr>\n",
       "  <th>Sample:</th>                  <td>0</td>        <th>  HQIC               </th> <td>-72603.625</td>\n",
       "</tr>\n",
       "<tr>\n",
       "  <th></th>                     <td> - 10640</td>     <th>                     </th>      <td> </td>    \n",
       "</tr>\n",
       "<tr>\n",
       "  <th>Covariance Type:</th>        <td>opg</td>       <th>                     </th>      <td> </td>    \n",
       "</tr>\n",
       "</table>\n",
       "<table class=\"simpletable\">\n",
       "<tr>\n",
       "     <td></td>       <th>coef</th>     <th>std err</th>      <th>z</th>      <th>P>|z|</th>  <th>[0.025</th>    <th>0.975]</th>  \n",
       "</tr>\n",
       "<tr>\n",
       "  <th>const</th>  <td> 8.001e-05</td> <td> 8.67e-05</td> <td>    0.923</td> <td> 0.356</td> <td>-8.98e-05</td> <td>    0.000</td>\n",
       "</tr>\n",
       "<tr>\n",
       "  <th>ar.L1</th>  <td>    0.1194</td> <td>    0.007</td> <td>   18.178</td> <td> 0.000</td> <td>    0.107</td> <td>    0.132</td>\n",
       "</tr>\n",
       "<tr>\n",
       "  <th>ar.L2</th>  <td>   -0.0148</td> <td>    0.007</td> <td>   -2.083</td> <td> 0.037</td> <td>   -0.029</td> <td>   -0.001</td>\n",
       "</tr>\n",
       "<tr>\n",
       "  <th>ar.L3</th>  <td>   -0.0012</td> <td>    0.007</td> <td>   -0.169</td> <td> 0.866</td> <td>   -0.015</td> <td>    0.013</td>\n",
       "</tr>\n",
       "<tr>\n",
       "  <th>ar.L4</th>  <td>    0.0149</td> <td>    0.007</td> <td>    2.027</td> <td> 0.043</td> <td>    0.000</td> <td>    0.029</td>\n",
       "</tr>\n",
       "<tr>\n",
       "  <th>ar.L5</th>  <td>   -0.0077</td> <td>    0.007</td> <td>   -1.128</td> <td> 0.259</td> <td>   -0.021</td> <td>    0.006</td>\n",
       "</tr>\n",
       "<tr>\n",
       "  <th>ar.L6</th>  <td>   -0.0177</td> <td>    0.007</td> <td>   -2.516</td> <td> 0.012</td> <td>   -0.031</td> <td>   -0.004</td>\n",
       "</tr>\n",
       "<tr>\n",
       "  <th>ar.L7</th>  <td>    0.0122</td> <td>    0.008</td> <td>    1.619</td> <td> 0.106</td> <td>   -0.003</td> <td>    0.027</td>\n",
       "</tr>\n",
       "<tr>\n",
       "  <th>ar.L8</th>  <td>   -0.0196</td> <td>    0.007</td> <td>   -2.713</td> <td> 0.007</td> <td>   -0.034</td> <td>   -0.005</td>\n",
       "</tr>\n",
       "<tr>\n",
       "  <th>ar.L9</th>  <td>    0.0202</td> <td>    0.008</td> <td>    2.591</td> <td> 0.010</td> <td>    0.005</td> <td>    0.036</td>\n",
       "</tr>\n",
       "<tr>\n",
       "  <th>sigma2</th> <td> 6.339e-05</td> <td> 4.96e-07</td> <td>  127.760</td> <td> 0.000</td> <td> 6.24e-05</td> <td> 6.44e-05</td>\n",
       "</tr>\n",
       "</table>\n",
       "<table class=\"simpletable\">\n",
       "<tr>\n",
       "  <th>Ljung-Box (L1) (Q):</th>     <td>0.00</td> <th>  Jarque-Bera (JB):  </th> <td>8532.56</td>\n",
       "</tr>\n",
       "<tr>\n",
       "  <th>Prob(Q):</th>                <td>0.97</td> <th>  Prob(JB):          </th>  <td>0.00</td>  \n",
       "</tr>\n",
       "<tr>\n",
       "  <th>Heteroskedasticity (H):</th> <td>1.90</td> <th>  Skew:              </th>  <td>0.01</td>  \n",
       "</tr>\n",
       "<tr>\n",
       "  <th>Prob(H) (two-sided):</th>    <td>0.00</td> <th>  Kurtosis:          </th>  <td>7.39</td>  \n",
       "</tr>\n",
       "</table><br/><br/>Warnings:<br/>[1] Covariance matrix calculated using the outer product of gradients (complex-step)."
      ],
      "text/plain": [
       "<class 'statsmodels.iolib.summary.Summary'>\n",
       "\"\"\"\n",
       "                               SARIMAX Results                                \n",
       "==============================================================================\n",
       "Dep. Variable:                      y   No. Observations:                10640\n",
       "Model:                 ARIMA(9, 0, 0)   Log Likelihood               36326.310\n",
       "Date:                Wed, 29 Dec 2021   AIC                         -72630.619\n",
       "Time:                        20:58:55   BIC                         -72550.623\n",
       "Sample:                             0   HQIC                        -72603.625\n",
       "                              - 10640                                         \n",
       "Covariance Type:                  opg                                         \n",
       "==============================================================================\n",
       "                 coef    std err          z      P>|z|      [0.025      0.975]\n",
       "------------------------------------------------------------------------------\n",
       "const       8.001e-05   8.67e-05      0.923      0.356   -8.98e-05       0.000\n",
       "ar.L1          0.1194      0.007     18.178      0.000       0.107       0.132\n",
       "ar.L2         -0.0148      0.007     -2.083      0.037      -0.029      -0.001\n",
       "ar.L3         -0.0012      0.007     -0.169      0.866      -0.015       0.013\n",
       "ar.L4          0.0149      0.007      2.027      0.043       0.000       0.029\n",
       "ar.L5         -0.0077      0.007     -1.128      0.259      -0.021       0.006\n",
       "ar.L6         -0.0177      0.007     -2.516      0.012      -0.031      -0.004\n",
       "ar.L7          0.0122      0.008      1.619      0.106      -0.003       0.027\n",
       "ar.L8         -0.0196      0.007     -2.713      0.007      -0.034      -0.005\n",
       "ar.L9          0.0202      0.008      2.591      0.010       0.005       0.036\n",
       "sigma2      6.339e-05   4.96e-07    127.760      0.000    6.24e-05    6.44e-05\n",
       "===================================================================================\n",
       "Ljung-Box (L1) (Q):                   0.00   Jarque-Bera (JB):              8532.56\n",
       "Prob(Q):                              0.97   Prob(JB):                         0.00\n",
       "Heteroskedasticity (H):               1.90   Skew:                             0.01\n",
       "Prob(H) (two-sided):                  0.00   Kurtosis:                         7.39\n",
       "===================================================================================\n",
       "\n",
       "Warnings:\n",
       "[1] Covariance matrix calculated using the outer product of gradients (complex-step).\n",
       "\"\"\""
      ]
     },
     "execution_count": 211,
     "metadata": {},
     "output_type": "execute_result"
    }
   ],
   "source": [
    "# Autoregressive model\n",
    "model_ar9 = ARIMA(data_diff, order = (9,0,0))\n",
    "result_ar9 = model_ar9.fit()\n",
    "result_ar9.summary()"
   ]
  },
  {
   "cell_type": "code",
   "execution_count": 212,
   "id": "1b926058",
   "metadata": {},
   "outputs": [],
   "source": [
    "resid = result_ar9.resid\n",
    "resid= pd.DataFrame(resid)"
   ]
  },
  {
   "cell_type": "code",
   "execution_count": 213,
   "id": "ae91265a",
   "metadata": {},
   "outputs": [
    {
     "data": {
      "text/html": [
       "<div>\n",
       "<style scoped>\n",
       "    .dataframe tbody tr th:only-of-type {\n",
       "        vertical-align: middle;\n",
       "    }\n",
       "\n",
       "    .dataframe tbody tr th {\n",
       "        vertical-align: top;\n",
       "    }\n",
       "\n",
       "    .dataframe thead th {\n",
       "        text-align: right;\n",
       "    }\n",
       "</style>\n",
       "<table border=\"1\" class=\"dataframe\">\n",
       "  <thead>\n",
       "    <tr style=\"text-align: right;\">\n",
       "      <th></th>\n",
       "      <th>0</th>\n",
       "    </tr>\n",
       "  </thead>\n",
       "  <tbody>\n",
       "    <tr>\n",
       "      <th>count</th>\n",
       "      <td>1.064000e+04</td>\n",
       "    </tr>\n",
       "    <tr>\n",
       "      <th>mean</th>\n",
       "      <td>9.851586e-07</td>\n",
       "    </tr>\n",
       "    <tr>\n",
       "      <th>std</th>\n",
       "      <td>7.962442e-03</td>\n",
       "    </tr>\n",
       "    <tr>\n",
       "      <th>min</th>\n",
       "      <td>-7.104566e-02</td>\n",
       "    </tr>\n",
       "    <tr>\n",
       "      <th>25%</th>\n",
       "      <td>-3.813751e-03</td>\n",
       "    </tr>\n",
       "    <tr>\n",
       "      <th>50%</th>\n",
       "      <td>-7.266892e-05</td>\n",
       "    </tr>\n",
       "    <tr>\n",
       "      <th>75%</th>\n",
       "      <td>3.789618e-03</td>\n",
       "    </tr>\n",
       "    <tr>\n",
       "      <th>max</th>\n",
       "      <td>5.216361e-02</td>\n",
       "    </tr>\n",
       "  </tbody>\n",
       "</table>\n",
       "</div>"
      ],
      "text/plain": [
       "                  0\n",
       "count  1.064000e+04\n",
       "mean   9.851586e-07\n",
       "std    7.962442e-03\n",
       "min   -7.104566e-02\n",
       "25%   -3.813751e-03\n",
       "50%   -7.266892e-05\n",
       "75%    3.789618e-03\n",
       "max    5.216361e-02"
      ]
     },
     "execution_count": 213,
     "metadata": {},
     "output_type": "execute_result"
    }
   ],
   "source": [
    "resid.describe()"
   ]
  },
  {
   "cell_type": "code",
   "execution_count": 214,
   "id": "bb8f5b2d",
   "metadata": {},
   "outputs": [
    {
     "data": {
      "text/plain": [
       "array([[<AxesSubplot:title={'center':'0'}>]], dtype=object)"
      ]
     },
     "execution_count": 214,
     "metadata": {},
     "output_type": "execute_result"
    },
    {
     "data": {
      "image/png": "[encoded data removed]",
      "text/plain": [
       "<Figure size 432x288 with 1 Axes>"
      ]
     },
     "metadata": {
      "needs_background": "light"
     },
     "output_type": "display_data"
    }
   ],
   "source": [
    "resid.hist()"
   ]
  },
  {
   "cell_type": "code",
   "execution_count": 215,
   "id": "137e5f9c",
   "metadata": {},
   "outputs": [
    {
     "data": {
      "text/plain": [
       "<AxesSubplot:ylabel='Density'>"
      ]
     },
     "execution_count": 215,
     "metadata": {},
     "output_type": "execute_result"
    },
    {
     "data": {
      "image/png": "[encoded data removed]",
      "text/plain": [
       "<Figure size 432x288 with 1 Axes>"
      ]
     },
     "metadata": {
      "needs_background": "light"
     },
     "output_type": "display_data"
    }
   ],
   "source": [
    "resid.plot(kind = 'kde')"
   ]
  },
  {
   "cell_type": "code",
   "execution_count": 216,
   "id": "b4d77512",
   "metadata": {},
   "outputs": [
    {
     "data": {
      "image/png": "[encoded data removed]",
      "text/plain": [
       "<Figure size 1440x360 with 1 Axes>"
      ]
     },
     "metadata": {
      "needs_background": "light"
     },
     "output_type": "display_data"
    }
   ],
   "source": [
    "resid.plot(figsize = (20,5))\n",
    "plt.show()"
   ]
  },
  {
   "cell_type": "code",
   "execution_count": 232,
   "id": "10c7e208",
   "metadata": {},
   "outputs": [
    {
     "data": {
      "text/html": [
       "<table class=\"simpletable\">\n",
       "<caption>SARIMAX Results</caption>\n",
       "<tr>\n",
       "  <th>Dep. Variable:</th>           <td>y</td>        <th>  No. Observations:  </th>    <td>10640</td>  \n",
       "</tr>\n",
       "<tr>\n",
       "  <th>Model:</th>            <td>ARIMA(5, 0, 4)</td>  <th>  Log Likelihood     </th>  <td>36319.130</td>\n",
       "</tr>\n",
       "<tr>\n",
       "  <th>Date:</th>            <td>Wed, 29 Dec 2021</td> <th>  AIC                </th> <td>-72616.261</td>\n",
       "</tr>\n",
       "<tr>\n",
       "  <th>Time:</th>                <td>21:22:39</td>     <th>  BIC                </th> <td>-72536.264</td>\n",
       "</tr>\n",
       "<tr>\n",
       "  <th>Sample:</th>                  <td>0</td>        <th>  HQIC               </th> <td>-72589.266</td>\n",
       "</tr>\n",
       "<tr>\n",
       "  <th></th>                     <td> - 10640</td>     <th>                     </th>      <td> </td>    \n",
       "</tr>\n",
       "<tr>\n",
       "  <th>Covariance Type:</th>        <td>opg</td>       <th>                     </th>      <td> </td>    \n",
       "</tr>\n",
       "</table>\n",
       "<table class=\"simpletable\">\n",
       "<tr>\n",
       "     <td></td>       <th>coef</th>     <th>std err</th>      <th>z</th>      <th>P>|z|</th>  <th>[0.025</th>    <th>0.975]</th>  \n",
       "</tr>\n",
       "<tr>\n",
       "  <th>const</th>  <td> 8.023e-05</td> <td>  8.7e-05</td> <td>    0.922</td> <td> 0.357</td> <td>-9.04e-05</td> <td>    0.000</td>\n",
       "</tr>\n",
       "<tr>\n",
       "  <th>ar.L1</th>  <td>   -0.8589</td> <td>    0.389</td> <td>   -2.206</td> <td> 0.027</td> <td>   -1.622</td> <td>   -0.096</td>\n",
       "</tr>\n",
       "<tr>\n",
       "  <th>ar.L2</th>  <td>   -0.3981</td> <td>    0.183</td> <td>   -2.171</td> <td> 0.030</td> <td>   -0.757</td> <td>   -0.039</td>\n",
       "</tr>\n",
       "<tr>\n",
       "  <th>ar.L3</th>  <td>   -0.2397</td> <td>    0.373</td> <td>   -0.643</td> <td> 0.521</td> <td>   -0.971</td> <td>    0.492</td>\n",
       "</tr>\n",
       "<tr>\n",
       "  <th>ar.L4</th>  <td>    0.1423</td> <td>    0.188</td> <td>    0.757</td> <td> 0.449</td> <td>   -0.226</td> <td>    0.511</td>\n",
       "</tr>\n",
       "<tr>\n",
       "  <th>ar.L5</th>  <td>   -0.0121</td> <td>    0.029</td> <td>   -0.417</td> <td> 0.677</td> <td>   -0.069</td> <td>    0.045</td>\n",
       "</tr>\n",
       "<tr>\n",
       "  <th>ma.L1</th>  <td>    0.9781</td> <td>    0.389</td> <td>    2.512</td> <td> 0.012</td> <td>    0.215</td> <td>    1.741</td>\n",
       "</tr>\n",
       "<tr>\n",
       "  <th>ma.L2</th>  <td>    0.4999</td> <td>    0.153</td> <td>    3.258</td> <td> 0.001</td> <td>    0.199</td> <td>    0.801</td>\n",
       "</tr>\n",
       "<tr>\n",
       "  <th>ma.L3</th>  <td>    0.2839</td> <td>    0.386</td> <td>    0.735</td> <td> 0.462</td> <td>   -0.473</td> <td>    1.040</td>\n",
       "</tr>\n",
       "<tr>\n",
       "  <th>ma.L4</th>  <td>   -0.1024</td> <td>    0.203</td> <td>   -0.504</td> <td> 0.614</td> <td>   -0.501</td> <td>    0.296</td>\n",
       "</tr>\n",
       "<tr>\n",
       "  <th>sigma2</th> <td> 6.348e-05</td> <td> 4.94e-07</td> <td>  128.566</td> <td> 0.000</td> <td> 6.25e-05</td> <td> 6.44e-05</td>\n",
       "</tr>\n",
       "</table>\n",
       "<table class=\"simpletable\">\n",
       "<tr>\n",
       "  <th>Ljung-Box (L1) (Q):</th>     <td>0.01</td> <th>  Jarque-Bera (JB):  </th> <td>8718.91</td>\n",
       "</tr>\n",
       "<tr>\n",
       "  <th>Prob(Q):</th>                <td>0.94</td> <th>  Prob(JB):          </th>  <td>0.00</td>  \n",
       "</tr>\n",
       "<tr>\n",
       "  <th>Heteroskedasticity (H):</th> <td>1.90</td> <th>  Skew:              </th>  <td>0.00</td>  \n",
       "</tr>\n",
       "<tr>\n",
       "  <th>Prob(H) (two-sided):</th>    <td>0.00</td> <th>  Kurtosis:          </th>  <td>7.43</td>  \n",
       "</tr>\n",
       "</table><br/><br/>Warnings:<br/>[1] Covariance matrix calculated using the outer product of gradients (complex-step).<br/>[2] Covariance matrix is singular or near-singular, with condition number  1e+17. Standard errors may be unstable."
      ],
      "text/plain": [
       "<class 'statsmodels.iolib.summary.Summary'>\n",
       "\"\"\"\n",
       "                               SARIMAX Results                                \n",
       "==============================================================================\n",
       "Dep. Variable:                      y   No. Observations:                10640\n",
       "Model:                 ARIMA(5, 0, 4)   Log Likelihood               36319.130\n",
       "Date:                Wed, 29 Dec 2021   AIC                         -72616.261\n",
       "Time:                        21:22:39   BIC                         -72536.264\n",
       "Sample:                             0   HQIC                        -72589.266\n",
       "                              - 10640                                         \n",
       "Covariance Type:                  opg                                         \n",
       "==============================================================================\n",
       "                 coef    std err          z      P>|z|      [0.025      0.975]\n",
       "------------------------------------------------------------------------------\n",
       "const       8.023e-05    8.7e-05      0.922      0.357   -9.04e-05       0.000\n",
       "ar.L1         -0.8589      0.389     -2.206      0.027      -1.622      -0.096\n",
       "ar.L2         -0.3981      0.183     -2.171      0.030      -0.757      -0.039\n",
       "ar.L3         -0.2397      0.373     -0.643      0.521      -0.971       0.492\n",
       "ar.L4          0.1423      0.188      0.757      0.449      -0.226       0.511\n",
       "ar.L5         -0.0121      0.029     -0.417      0.677      -0.069       0.045\n",
       "ma.L1          0.9781      0.389      2.512      0.012       0.215       1.741\n",
       "ma.L2          0.4999      0.153      3.258      0.001       0.199       0.801\n",
       "ma.L3          0.2839      0.386      0.735      0.462      -0.473       1.040\n",
       "ma.L4         -0.1024      0.203     -0.504      0.614      -0.501       0.296\n",
       "sigma2      6.348e-05   4.94e-07    128.566      0.000    6.25e-05    6.44e-05\n",
       "===================================================================================\n",
       "Ljung-Box (L1) (Q):                   0.01   Jarque-Bera (JB):              8718.91\n",
       "Prob(Q):                              0.94   Prob(JB):                         0.00\n",
       "Heteroskedasticity (H):               1.90   Skew:                             0.00\n",
       "Prob(H) (two-sided):                  0.00   Kurtosis:                         7.43\n",
       "===================================================================================\n",
       "\n",
       "Warnings:\n",
       "[1] Covariance matrix calculated using the outer product of gradients (complex-step).\n",
       "[2] Covariance matrix is singular or near-singular, with condition number  1e+17. Standard errors may be unstable.\n",
       "\"\"\""
      ]
     },
     "execution_count": 232,
     "metadata": {},
     "output_type": "execute_result"
    }
   ],
   "source": [
    "# Autoregressive model moving average\n",
    "model_ma10 = ARIMA(data_diff, order = (5,0,4))\n",
    "result_ma10 = model_ma10.fit()\n",
    "result_ma10.summary()"
   ]
  },
  {
   "cell_type": "code",
   "execution_count": null,
   "id": "a2878821",
   "metadata": {},
   "outputs": [],
   "source": []
  }
 ],
 "metadata": {
  "kernelspec": {
   "display_name": "Python 3 (ipykernel)",
   "language": "python",
   "name": "python3"
  },
  "language_info": {
   "codemirror_mode": {
    "name": "ipython",
    "version": 3
   },
   "file_extension": ".py",
   "mimetype": "text/x-python",
   "name": "python",
   "nbconvert_exporter": "python",
   "pygments_lexer": "ipython3",
   "version": "3.8.0"
  }
 },
 "nbformat": 4,
 "nbformat_minor": 5
}
