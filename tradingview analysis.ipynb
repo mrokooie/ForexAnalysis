{
 "cells": [
  {
   "cell_type": "code",
   "execution_count": 1,
   "id": "7416e8ee",
   "metadata": {},
   "outputs": [],
   "source": [
    "import pandas as pd"
   ]
  },
  {
   "cell_type": "code",
   "execution_count": 9,
   "id": "2d352bf9",
   "metadata": {},
   "outputs": [],
   "source": [
    "data = pd.read_csv(\"FOREXCOM_EURCAD, 5.csv\")"
   ]
  },
  {
   "cell_type": "code",
   "execution_count": 10,
   "id": "9f6e6414",
   "metadata": {},
   "outputs": [
    {
     "data": {
      "text/html": [
       "<div>\n",
       "<style scoped>\n",
       "    .dataframe tbody tr th:only-of-type {\n",
       "        vertical-align: middle;\n",
       "    }\n",
       "\n",
       "    .dataframe tbody tr th {\n",
       "        vertical-align: top;\n",
       "    }\n",
       "\n",
       "    .dataframe thead th {\n",
       "        text-align: right;\n",
       "    }\n",
       "</style>\n",
       "<table border=\"1\" class=\"dataframe\">\n",
       "  <thead>\n",
       "    <tr style=\"text-align: right;\">\n",
       "      <th></th>\n",
       "      <th>time</th>\n",
       "      <th>open</th>\n",
       "      <th>high</th>\n",
       "      <th>low</th>\n",
       "      <th>close</th>\n",
       "    </tr>\n",
       "  </thead>\n",
       "  <tbody>\n",
       "    <tr>\n",
       "      <th>0</th>\n",
       "      <td>1639770600</td>\n",
       "      <td>1.44967</td>\n",
       "      <td>1.44977</td>\n",
       "      <td>1.44925</td>\n",
       "      <td>1.44936</td>\n",
       "    </tr>\n",
       "    <tr>\n",
       "      <th>1</th>\n",
       "      <td>1639770900</td>\n",
       "      <td>1.44936</td>\n",
       "      <td>1.44938</td>\n",
       "      <td>1.44889</td>\n",
       "      <td>1.44918</td>\n",
       "    </tr>\n",
       "    <tr>\n",
       "      <th>2</th>\n",
       "      <td>1639771200</td>\n",
       "      <td>1.44918</td>\n",
       "      <td>1.44922</td>\n",
       "      <td>1.44877</td>\n",
       "      <td>1.44884</td>\n",
       "    </tr>\n",
       "    <tr>\n",
       "      <th>3</th>\n",
       "      <td>1639771500</td>\n",
       "      <td>1.44884</td>\n",
       "      <td>1.44884</td>\n",
       "      <td>1.44826</td>\n",
       "      <td>1.44835</td>\n",
       "    </tr>\n",
       "    <tr>\n",
       "      <th>4</th>\n",
       "      <td>1639771800</td>\n",
       "      <td>1.44835</td>\n",
       "      <td>1.44879</td>\n",
       "      <td>1.44835</td>\n",
       "      <td>1.44856</td>\n",
       "    </tr>\n",
       "  </tbody>\n",
       "</table>\n",
       "</div>"
      ],
      "text/plain": [
       "         time     open     high      low    close\n",
       "0  1639770600  1.44967  1.44977  1.44925  1.44936\n",
       "1  1639770900  1.44936  1.44938  1.44889  1.44918\n",
       "2  1639771200  1.44918  1.44922  1.44877  1.44884\n",
       "3  1639771500  1.44884  1.44884  1.44826  1.44835\n",
       "4  1639771800  1.44835  1.44879  1.44835  1.44856"
      ]
     },
     "execution_count": 10,
     "metadata": {},
     "output_type": "execute_result"
    }
   ],
   "source": [
    "data.head()"
   ]
  },
  {
   "cell_type": "code",
   "execution_count": 2,
   "id": "2117e62d",
   "metadata": {},
   "outputs": [
    {
     "name": "stdout",
     "output_type": "stream",
     "text": [
      "Requirement already satisfied: scikit-learn in c:\\users\\marzieh\\appdata\\local\\programs\\python\\python38\\lib\\site-packages (1.0.2)Note: you may need to restart the kernel to use updated packages.\n",
      "Requirement already satisfied: threadpoolctl>=2.0.0 in c:\\users\\marzieh\\appdata\\local\\programs\\python\\python38\\lib\\site-packages (from scikit-learn) (3.0.0)\n",
      "Requirement already satisfied: scipy>=1.1.0 in c:\\users\\marzieh\\appdata\\local\\programs\\python\\python38\\lib\\site-packages (from scikit-learn) (1.7.3)\n",
      "Requirement already satisfied: joblib>=0.11 in c:\\users\\marzieh\\appdata\\local\\programs\\python\\python38\\lib\\site-packages (from scikit-learn) (1.1.0)\n",
      "Requirement already satisfied: numpy>=1.14.6 in c:\\users\\marzieh\\appdata\\local\\programs\\python\\python38\\lib\\site-packages (from scikit-learn) (1.21.4)\n",
      "\n"
     ]
    }
   ],
   "source": [
    "#pip install scikit-learn"
   ]
  },
  {
   "cell_type": "code",
   "execution_count": 7,
   "id": "b187a22f",
   "metadata": {},
   "outputs": [],
   "source": [
    "from sklearn import *"
   ]
  },
  {
   "cell_type": "code",
   "execution_count": 14,
   "id": "fbf6158c",
   "metadata": {},
   "outputs": [],
   "source": [
    "train, test = model_selection.train_test_split(data, shuffle = True)"
   ]
  },
  {
   "cell_type": "code",
   "execution_count": 15,
   "id": "040a4f4b",
   "metadata": {},
   "outputs": [
    {
     "name": "stdout",
     "output_type": "stream",
     "text": [
      "            time     open     high      low    close\n",
      "1404  1640364600  1.44999  1.45002  1.44960  1.44969\n",
      "1357  1640350500  1.45133  1.45139  1.44960  1.45065\n",
      "1011  1640246700  1.45259  1.45259  1.45212  1.45220\n",
      "739   1640165100  1.45513  1.45530  1.45499  1.45504\n",
      "655   1640139900  1.45639  1.45641  1.45618  1.45618\n",
      "...          ...      ...      ...      ...      ...\n",
      "208   1640005800  1.45699  1.45721  1.45653  1.45696\n",
      "1291  1640330700  1.45314  1.45325  1.45287  1.45323\n",
      "818   1640188800  1.45539  1.45730  1.45539  1.45714\n",
      "1094  1640271600  1.45130  1.45271  1.45129  1.45215\n",
      "1425  1640370900  1.44946  1.45171  1.44946  1.45080\n",
      "\n",
      "[1099 rows x 5 columns]\n"
     ]
    }
   ],
   "source": [
    "print(train)"
   ]
  },
  {
   "cell_type": "code",
   "execution_count": 13,
   "id": "837ad6ae",
   "metadata": {},
   "outputs": [
    {
     "name": "stdout",
     "output_type": "stream",
     "text": [
      "            time     open     high      low    close\n",
      "0     1639770600  1.44967  1.44977  1.44925  1.44936\n",
      "1     1639770900  1.44936  1.44938  1.44889  1.44918\n",
      "2     1639771200  1.44918  1.44922  1.44877  1.44884\n",
      "3     1639771500  1.44884  1.44884  1.44826  1.44835\n",
      "4     1639771800  1.44835  1.44879  1.44835  1.44856\n",
      "...          ...      ...      ...      ...      ...\n",
      "1461  1640381700  1.45153  1.45226  1.45054  1.45055\n",
      "1462  1640382000  1.45055  1.45116  1.45010  1.45092\n",
      "1463  1640382300  1.45092  1.45207  1.45027  1.45069\n",
      "1464  1640382600  1.45069  1.45072  1.44779  1.44933\n",
      "1465  1640382900  1.44933  1.45116  1.44864  1.45013\n",
      "\n",
      "[1466 rows x 5 columns]\n"
     ]
    }
   ],
   "source": [
    "print(data)"
   ]
  },
  {
   "cell_type": "code",
   "execution_count": 16,
   "id": "8e390d86",
   "metadata": {},
   "outputs": [
    {
     "name": "stdout",
     "output_type": "stream",
     "text": [
      "            time     open     high      low    close\n",
      "1234  1640313600  1.45210  1.45239  1.45208  1.45228\n",
      "736   1640164200  1.45487  1.45492  1.45463  1.45484\n",
      "459   1640081100  1.46131  1.46137  1.46051  1.46082\n",
      "416   1640068200  1.45836  1.45838  1.45796  1.45803\n",
      "1266  1640323200  1.45355  1.45382  1.45353  1.45380\n",
      "...          ...      ...      ...      ...      ...\n",
      "82    1639968000  1.45011  1.45045  1.45011  1.45015\n",
      "1044  1640256600  1.45206  1.45220  1.45184  1.45189\n",
      "302   1640034000  1.45932  1.45946  1.45909  1.45932\n",
      "620   1640129400  1.45765  1.45770  1.45761  1.45761\n",
      "639   1640135100  1.45721  1.45723  1.45700  1.45708\n",
      "\n",
      "[367 rows x 5 columns]\n"
     ]
    }
   ],
   "source": [
    "print(test)"
   ]
  },
  {
   "cell_type": "code",
   "execution_count": null,
   "id": "bda2f4f9",
   "metadata": {},
   "outputs": [],
   "source": []
  }
 ],
 "metadata": {
  "kernelspec": {
   "display_name": "Python 3 (ipykernel)",
   "language": "python",
   "name": "python3"
  },
  "language_info": {
   "codemirror_mode": {
    "name": "ipython",
    "version": 3
   },
   "file_extension": ".py",
   "mimetype": "text/x-python",
   "name": "python",
   "nbconvert_exporter": "python",
   "pygments_lexer": "ipython3",
   "version": "3.8.0"
  }
 },
 "nbformat": 4,
 "nbformat_minor": 5
}
